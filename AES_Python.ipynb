{
  "cells": [
    {
      "cell_type": "code",
      "execution_count": 1,
      "id": "acb7d77e",
      "metadata": {
        "id": "acb7d77e"
      },
      "outputs": [],
      "source": [
        "import numpy as np\n",
        "from functools import reduce\n",
        "\n",
        "# Déclaration de variables et de fonctions basiques\n",
        "\n",
        "rcon = [\"02\",\"04\",\"08\",\"10\",\"20\",\"40\",\"80\",\"1B\",\"36\"]\n",
        "sbox = \"63 7c 77 7b f2 6b 6f c5 30 01 67 2b fe d7 ab 76\\\n",
        " ca 82 c9 7d fa 59 47 f0 ad d4 a2 af 9c a4 72 c0\\\n",
        " b7 fd 93 26 36 3f f7 cc 34 a5 e5 f1 71 d8 31 15\\\n",
        " 04 c7 23 c3 18 96 05 9a 07 12 80 e2 eb 27 b2 75\\\n",
        " 09 83 2c 1a 1b 6e 5a a0 52 3b d6 b3 29 e3 2f 84\\\n",
        " 53 d1 00 ed 20 fc b1 5b 6a cb be 39 4a 4c 58 cf\\\n",
        " d0 ef aa fb 43 4d 33 85 45 f9 02 7f 50 3c 9f a8\\\n",
        " 51 a3 40 8f 92 9d 38 f5 bc b6 da 21 10 ff f3 d2\\\n",
        " cd 0c 13 ec 5f 97 44 17 c4 a7 7e 3d 64 5d 19 73\\\n",
        " 60 81 4f dc 22 2a 90 88 46 ee b8 14 de 5e 0b db\\\n",
        " e0 32 3a 0a 49 06 24 5c c2 d3 ac 62 91 95 e4 79\\\n",
        " e7 c8 37 6d 8d d5 4e a9 6c 56 f4 ea 65 7a ae 08\\\n",
        " ba 78 25 2e 1c a6 b4 c6 e8 dd 74 1f 4b bd 8b 8a\\\n",
        " 70 3e b5 66 48 03 f6 0e 61 35 57 b9 86 c1 1d 9e\\\n",
        " e1 f8 98 11 69 d9 8e 94 9b 1e 87 e9 ce 55 28 df\\\n",
        " 8c a1 89 0d bf e6 42 68 41 99 2d 0f b0 54 bb 16\".split(\" \")\n",
        "\n",
        "  # Transformation de la chaîne en liste de hex\n",
        "def toHexList(String):\n",
        "  l = []\n",
        "  for character in String:\n",
        "      l.append(character.encode('utf-8').hex())\n",
        "  return l\n",
        "\n",
        "  # Création d'une liste avec des sous listes de longueur 4\n",
        "def toSubList(List):\n",
        "  lf = []\n",
        "  for i in range(1,int(len(List)/4)+1):\n",
        "      lf.append(List[i*4-4:i*4])\n",
        "  return lf\n",
        "\n",
        "#Décalage à gauche de x pour la dernière ligne\n",
        "def left_shift(list,offset):\n",
        "  return np.roll(list[-4:],offset)\n"
      ]
    },
    {
      "cell_type": "code",
      "source": [
        "# \"Thats my Kung Fu\" Translation into Hex / Affichage de w[3]\n",
        "key0 = toHexList(\"Thats my Kung Fu\")\n",
        "print(f\"w[3] : {key0[-4:]}\")"
      ],
      "metadata": {
        "colab": {
          "base_uri": "https://localhost:8080/"
        },
        "id": "h0KEBH3EHMzF",
        "outputId": "76fcfb49-1645-4d09-895e-c6bc61090b48"
      },
      "id": "h0KEBH3EHMzF",
      "execution_count": 2,
      "outputs": [
        {
          "output_type": "stream",
          "name": "stdout",
          "text": [
            "w[3] : ['67', '20', '46', '75']\n"
          ]
        }
      ]
    },
    {
      "cell_type": "code",
      "source": [
        "#Circular byte left shift of w[3]\n",
        "left_shift = left_shift(key0,-1)\n",
        "print(f\"circular byte left shift of w[3]: {left_shift}\")"
      ],
      "metadata": {
        "colab": {
          "base_uri": "https://localhost:8080/"
        },
        "id": "d_mLz0TNHQCU",
        "outputId": "4590f8b8-345a-4df9-a964-6c6a6a85b8b7"
      },
      "id": "d_mLz0TNHQCU",
      "execution_count": 3,
      "outputs": [
        {
          "output_type": "stream",
          "name": "stdout",
          "text": [
            "circular byte left shift of w[3]: ['20' '46' '75' '67']\n"
          ]
        }
      ]
    },
    {
      "cell_type": "code",
      "source": [
        "# Byte Substitution (S-Box):\n",
        "sbox_16SubList = [sbox[i:i+16] for i in range(0, len(sbox), 16)]\n",
        "SubLine = []\n",
        "for h in left_shift:\n",
        "    SubLine.append(sbox_16SubList[int(h[0],16)][int(h[1],16)])\n",
        "print(f\"Byte Substitution (S-Box): {SubLine}\")"
      ],
      "metadata": {
        "colab": {
          "base_uri": "https://localhost:8080/"
        },
        "id": "UtBhkhEtHTOF",
        "outputId": "13f7b3f6-90f1-48de-e670-73f016e4626a"
      },
      "id": "UtBhkhEtHTOF",
      "execution_count": 4,
      "outputs": [
        {
          "output_type": "stream",
          "name": "stdout",
          "text": [
            "Byte Substitution (S-Box): ['b7', '5a', '9d', '85']\n"
          ]
        }
      ]
    },
    {
      "cell_type": "code",
      "source": [
        "#Adding round Constant\n",
        "Add_round = [hex(int(SubLine[0],16)^int(\"01\",16))[2:]] + SubLine[1:]\n",
        "print(f\"Adding round constant (01, 00, 00, 00) gives: g(w[3]) : {Add_round}\")"
      ],
      "metadata": {
        "colab": {
          "base_uri": "https://localhost:8080/"
        },
        "id": "vjoIjScbHVy-",
        "outputId": "ea85d496-e443-4ae8-ece7-0ac43cbf4667"
      },
      "id": "vjoIjScbHVy-",
      "execution_count": 5,
      "outputs": [
        {
          "output_type": "stream",
          "name": "stdout",
          "text": [
            "Adding round constant (01, 00, 00, 00) gives: g(w[3]) : ['b6', '5a', '9d', '85']\n"
          ]
        }
      ]
    },
    {
      "cell_type": "code",
      "execution_count": 6,
      "id": "841776b2",
      "metadata": {
        "colab": {
          "base_uri": "https://localhost:8080/"
        },
        "id": "841776b2",
        "outputId": "abadf737-bf8e-4c12-9f46-80dcae5a5ee9"
      },
      "outputs": [
        {
          "output_type": "stream",
          "name": "stdout",
          "text": [
            "['54', '68', '61', '74', '73', '20', '6d', '79', '20', '4b', '75', '6e', '67', '20', '46', '75']\n",
            "['e2', '32', 'fc', 'f1', '91', '12', '91', '88', 'b1', '59', 'e4', 'e6', 'd6', '79', 'a2', '93']\n",
            "['56', '08', '20', '07', 'c7', '1a', 'b1', '8f', '76', '43', '55', '69', 'a0', '3a', 'f7', 'fa']\n",
            "['d2', '60', '0d', 'e7', '15', '7a', 'bc', '68', '63', '39', 'e9', '01', 'c3', '03', '1e', 'fb']\n",
            "['a1', '12', '02', 'c9', 'b4', '68', 'be', 'a1', 'd7', '51', '57', 'a0', '14', '52', '49', '5b']\n",
            "['b1', '29', '3b', '33', '05', '41', '85', '92', 'd2', '10', 'd2', '32', 'c6', '42', '9b', '69']\n",
            "['bd', '3d', 'c2', '87', 'b8', '7c', '47', '15', '6a', '6c', '95', '27', 'ac', '2e', '0e', '4e']\n",
            "['cc', '96', 'ed', '16', '74', 'ea', 'aa', '03', '1e', '86', '3f', '24', 'b2', 'a8', '31', '6a']\n",
            "['8e', '51', 'ef', '21', 'fa', 'bb', '45', '22', 'e4', '3d', '7a', '06', '56', '95', '4b', '6c']\n",
            "['bf', 'e2', 'bf', '90', '45', '59', 'fa', 'b2', 'a1', '64', '80', 'b4', 'f7', 'f1', 'cb', 'd8']\n",
            "['28', 'fd', 'de', 'f8', '6d', 'a4', '24', '4a', 'cc', 'c0', 'a4', 'fe', '3b', '31', '6f', '26']\n"
          ]
        }
      ],
      "source": [
        "# Génération des clés\n",
        "def genKeys(key0SubList,Add_round):\n",
        "  keys = []\n",
        "  for j in range(4):\n",
        "      if j == 0:\n",
        "          for i in range(4):\n",
        "              keys.append(hex(int(key0SubList[0][i],16)^int(Add_round[i],16))[2:])\n",
        "      else:\n",
        "          for i in range(4):\n",
        "              keys.append(hex(int(keys[-4:][0],16)^int(key0SubList[j][i],16))[2:])\n",
        "\n",
        "  for k in range(9):\n",
        "      #Création d'une liste avec des sous listes de longueur 4\n",
        "      lf = []\n",
        "      #Ajout de zero si manquant\n",
        "      for i in range(len(keys)):\n",
        "          if len(keys[i])==1: keys[i] = \"0\" + keys[i]\n",
        "          \n",
        "      lf = toSubList(keys)[-4:]\n",
        "      #Décalage à gauche de 1 pour la dernière ligne\n",
        "      left_shift = np.roll(keys[-4:],-1)\n",
        "      # Byte Substitution\n",
        "      SubLine = []\n",
        "      for h in left_shift:\n",
        "          SubLine.append(sbox_16SubList[int(h[0],16)][int(h[1],16)])\n",
        "      #Adding round Constant\n",
        "      Add_round = [hex(int(SubLine[0],16)^int(rcon[k],16))[2:]] + SubLine[1:]\n",
        "      for j in range(4):\n",
        "          if j == 0:\n",
        "              for i in range(4):\n",
        "                  keys.append(hex(int(lf[0][i],16)^int(Add_round[i],16))[2:])\n",
        "          else:\n",
        "              for i in range(4):\n",
        "                  keys.append(hex(int(keys[-4:][0],16)^int(lf[j][i],16))[2:])\n",
        "  return keys\n",
        "key0SubList = toSubList(key0)\n",
        "keys = genKeys(key0SubList,Add_round)\n",
        "\n",
        "keysSubList = [key0]\n",
        "for i in range(10):\n",
        "    keysSubList.append(keys[16*i:(16*i)+16])\n",
        "for i in range(11):\n",
        "  print(keysSubList[i])"
      ]
    },
    {
      "cell_type": "code",
      "source": [
        "# Fonctions pour les tours de chiffrement\n",
        "\n",
        "# Mix Columns Standard en entré une ligne de la matrice\n",
        "def mixColumns(a, b, c, d):\n",
        "    l =[]\n",
        "    l.append('{:02x}'.format(gmul(a, 2) ^ gmul(b, 3) ^ gmul(c, 1) ^ gmul(d, 1)))\n",
        "    l.append('{:02x}'.format(gmul(a, 1) ^ gmul(b, 2) ^ gmul(c, 3) ^ gmul(d, 1)))\n",
        "    l.append('{:02x}'.format(gmul(a, 1) ^ gmul(b, 1) ^ gmul(c, 2) ^ gmul(d, 3)))\n",
        "    l.append('{:02x}'.format(gmul(a, 3) ^ gmul(b, 1) ^ gmul(c, 1) ^ gmul(d, 2)))\n",
        "    return l\n",
        "\n",
        "def gmul(a, b):\n",
        "    if b == 1:\n",
        "        return a\n",
        "    tmp = (a << 1) & 0xff\n",
        "    if b == 2:\n",
        "        return tmp if a < 128 else tmp ^ 0x1b\n",
        "    if b == 3:\n",
        "        return gmul(a, 2) ^ a\n",
        "\n",
        "#Add_Round_Key en entré la matrice et la clé actuelle\n",
        "def Add_Round_key(stateMatrix,RoundkeyMatrix):\n",
        "  newStateMatrix = []\n",
        "  for i in range(len(stateMatrix)):\n",
        "    newStateMatrix.append(hex(int(stateMatrix[i],16)^int(RoundkeyMatrix[i],16))[2:])\n",
        "    if len(newStateMatrix[i]) == 1: newStateMatrix[i] = \"0\" + newStateMatrix[i]\n",
        "  return(newStateMatrix)\n",
        "\n",
        "#Sub_Bytes\n",
        "def Sub_Bytes(StateMatrix):\n",
        "  newStateMatrix = []\n",
        "  for h in StateMatrix:\n",
        "    newStateMatrix.append(sbox_16SubList[int(h[0],16)][int(h[1],16)])\n",
        "  return newStateMatrix\n",
        "\n",
        "#Shift_Row\n",
        "def shift_Row(StateMatrix):\n",
        "    middleStateMatrix = []\n",
        "    newStateMatrix = []\n",
        "    for i in range(4):\n",
        "      for j in range(4):\n",
        "        middleStateMatrix.append(StateMatrix[(j*4)+i])\n",
        "    for i in range(4):\n",
        "      newStateMatrix.append(np.roll(toSubList(middleStateMatrix)[i],-i))\n",
        "    return newStateMatrix\n",
        "\n",
        "# Mix Columon spécifique\n",
        "def mix_Column(StateMatrix):\n",
        "  middleStateMatrix = []\n",
        "  newStateMatrix = []\n",
        "  for i in range(4):\n",
        "    for j in range(4):\n",
        "      middleStateMatrix.append(StateMatrix[j][i])\n",
        "  middleStateMatrix = toSubList(middleStateMatrix)\n",
        "  for i in range(4):\n",
        "    newStateMatrix.append(mixColumns(int(middleStateMatrix[i][0],16),int(middleStateMatrix[i][1],16),int(middleStateMatrix[i][2],16),int(middleStateMatrix[i][3],16)))\n",
        "  flat_newStateMatrix = [item for sublist in newStateMatrix for item in sublist]\n",
        "  return flat_newStateMatrix\n",
        "\n",
        "#Fonction pour les 10 tours de chiffrement en entré le premier texte et la liste de clés\n",
        "def cipher_round(plainList,keySubList):\n",
        "  middle_ciphertext = []\n",
        "  for i in range(11):\n",
        "    addround = Add_Round_key(plainList,keySubList[i])\n",
        "    subbytes = Sub_Bytes(addround)\n",
        "    shiftrow= shift_Row(subbytes)\n",
        "    if i == 9:\n",
        "      for k in range(4):\n",
        "        for j in range(4):\n",
        "          middle_ciphertext.append(shiftrow[j][k])\n",
        "      ciphertext = Add_Round_key(middle_ciphertext,keySubList[i+1])\n",
        "      return ciphertext\n",
        "    plain = mix_Column(shiftrow)\n",
        "    plainList = []\n",
        "    plainList = plain"
      ],
      "metadata": {
        "id": "A2U0FoLfCGjo"
      },
      "id": "A2U0FoLfCGjo",
      "execution_count": 7,
      "outputs": []
    },
    {
      "cell_type": "code",
      "source": [
        "plainList=toHexList(\"Two One Nine Two\")\n",
        "print(cipher_round(plainList,keysSubList))"
      ],
      "metadata": {
        "id": "f6Mr_aHZCK51",
        "colab": {
          "base_uri": "https://localhost:8080/"
        },
        "outputId": "c162b519-ea87-46d7-80e1-69dd222173a1"
      },
      "id": "f6Mr_aHZCK51",
      "execution_count": 8,
      "outputs": [
        {
          "output_type": "stream",
          "name": "stdout",
          "text": [
            "['29', 'c3', '50', '5f', '57', '14', '20', 'f6', '40', '22', '99', 'b3', '1a', '02', 'd7', '3a']\n"
          ]
        }
      ]
    },
    {
      "cell_type": "code",
      "execution_count": 8,
      "id": "f0100c86",
      "metadata": {
        "id": "f0100c86"
      },
      "outputs": [],
      "source": [
        ""
      ]
    }
  ],
  "metadata": {
    "kernelspec": {
      "display_name": "Python 3 (ipykernel)",
      "language": "python",
      "name": "python3"
    },
    "language_info": {
      "codemirror_mode": {
        "name": "ipython",
        "version": 3
      },
      "file_extension": ".py",
      "mimetype": "text/x-python",
      "name": "python",
      "nbconvert_exporter": "python",
      "pygments_lexer": "ipython3",
      "version": "3.9.0"
    },
    "colab": {
      "name": "Calcul matrice.ipynb",
      "provenance": []
    }
  },
  "nbformat": 4,
  "nbformat_minor": 5
}